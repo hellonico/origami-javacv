{
 "cells": [
  {
   "cell_type": "code",
   "execution_count": 1,
   "metadata": {},
   "outputs": [],
   "source": [
    "var a = 2;"
   ]
  },
  {
   "cell_type": "code",
   "execution_count": null,
   "metadata": {},
   "outputs": [],
   "source": [
    "%maven org.bytedeco:javacv-platform:1.5.1"
   ]
  },
  {
   "cell_type": "code",
   "execution_count": null,
   "metadata": {},
   "outputs": [],
   "source": [
    "import org.bytedeco.opencv.global.opencv_imgcodecs;\n",
    "import org.bytedeco.opencv.opencv_core.IplImage;\n",
    "import org.bytedeco.opencv.opencv_core.Mat;\n",
    "import org.bytedeco.opencv.opencv_core.MatVector;\n",
    "import org.bytedeco.opencv.opencv_core.Scalar;\n",
    "\n",
    "import java.util.stream.LongStream;\n",
    "\n",
    "import static org.bytedeco.opencv.global.opencv_imgproc.*;\n",
    "import static org.bytedeco.opencv.helper.opencv_imgcodecs.cvLoadImage;"
   ]
  }
 ],
 "metadata": {
  "kernelspec": {
   "display_name": "Java",
   "language": "java",
   "name": "java"
  },
  "language_info": {
   "codemirror_mode": "java",
   "file_extension": ".jshell",
   "mimetype": "text/x-java-source",
   "name": "Java",
   "pygments_lexer": "java",
   "version": "13-ea+13"
  }
 },
 "nbformat": 4,
 "nbformat_minor": 2
}
